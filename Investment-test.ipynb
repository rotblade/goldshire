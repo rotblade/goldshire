{
 "cells": [
  {
   "cell_type": "code",
   "execution_count": 1,
   "metadata": {},
   "outputs": [],
   "source": [
    "import datetime\n",
    "import pandas as pd\n",
    "from invest.portfolio import Portfolio\n",
    "from invest.investment import Investment\n",
    "from config import Config"
   ]
  },
  {
   "cell_type": "code",
   "execution_count": 2,
   "metadata": {},
   "outputs": [],
   "source": [
    "invests = []\n",
    "for k, v in Config.FUNDS.items():\n",
    "    pfls = [Portfolio(c, Config.STOCKS[c]) for c in v[1:]]\n",
    "    invests.append(Investment(k, v[0], pfls))"
   ]
  },
  {
   "cell_type": "code",
   "execution_count": 3,
   "metadata": {},
   "outputs": [],
   "source": [
    "invest_cny = invests[0]\n",
    "invest_hkd = invests[1]"
   ]
  },
  {
   "cell_type": "code",
   "execution_count": 9,
   "metadata": {},
   "outputs": [],
   "source": [
    "#end = datetime.date(2017, 12, 29)\n",
    "latest_cny = invest_cny.getData().drop(['Currency'], axis=1)\n",
    "latest_hkd = invest_hkd.getData().drop(['Currency'], axis=1)\n",
    "period_cny = invest_cny.getPeriodData().drop(['Currency'], axis=1)\n",
    "period_hkd = invest_hkd.getPeriodData().drop(['Currency'], axis=1)"
   ]
  },
  {
   "cell_type": "code",
   "execution_count": 10,
   "metadata": {},
   "outputs": [],
   "source": [
    "rate_df = pd.read_csv(Config.H2C_RATE_FILE, parse_dates=['Date'], index_col=0)\n",
    "latest_hkd2cny = latest_hkd.join(rate_df)\n",
    "latest_hkd2cny['Value'] = latest_hkd2cny['Value'] * latest_hkd2cny['Rate']\n",
    "latest_hkd2cny = latest_hkd2cny.drop(['Rate'], axis=1).round(2)\n",
    "period_hkd2cny = period_hkd.join(rate_df)\n",
    "period_hkd2cny['Value'] = period_hkd2cny['Value'] * period_hkd2cny['Rate']\n",
    "period_hkd2cny = period_hkd2cny.drop(['Rate'], axis=1).round(2)"
   ]
  },
  {
   "cell_type": "code",
   "execution_count": 13,
   "metadata": {},
   "outputs": [
    {
     "data": {
      "text/html": [
       "<div>\n",
       "<style scoped>\n",
       "    .dataframe tbody tr th:only-of-type {\n",
       "        vertical-align: middle;\n",
       "    }\n",
       "\n",
       "    .dataframe tbody tr th {\n",
       "        vertical-align: top;\n",
       "    }\n",
       "\n",
       "    .dataframe thead th {\n",
       "        text-align: right;\n",
       "    }\n",
       "</style>\n",
       "<table border=\"1\" class=\"dataframe\">\n",
       "  <thead>\n",
       "    <tr style=\"text-align: right;\">\n",
       "      <th></th>\n",
       "      <th>Commission</th>\n",
       "      <th>Earning</th>\n",
       "      <th>Fund</th>\n",
       "      <th>Market</th>\n",
       "      <th>Tax</th>\n",
       "      <th>Value</th>\n",
       "    </tr>\n",
       "  </thead>\n",
       "  <tbody>\n",
       "    <tr>\n",
       "      <th>2018-01-17</th>\n",
       "      <td>13671.63</td>\n",
       "      <td>2885221.1</td>\n",
       "      <td>1452282.2</td>\n",
       "      <td>3815410.0</td>\n",
       "      <td>26053.9</td>\n",
       "      <td>4037703.66</td>\n",
       "    </tr>\n",
       "  </tbody>\n",
       "</table>\n",
       "</div>"
      ],
      "text/plain": [
       "            Commission    Earning       Fund     Market      Tax       Value\n",
       "2018-01-17    13671.63  2885221.1  1452282.2  3815410.0  26053.9  4037703.66"
      ]
     },
     "execution_count": 13,
     "metadata": {},
     "output_type": "execute_result"
    }
   ],
   "source": [
    "latest = latest_cny + latest_hkd2cny\n",
    "latest"
   ]
  },
  {
   "cell_type": "code",
   "execution_count": 12,
   "metadata": {},
   "outputs": [
    {
     "data": {
      "text/html": [
       "<div>\n",
       "<style scoped>\n",
       "    .dataframe tbody tr th:only-of-type {\n",
       "        vertical-align: middle;\n",
       "    }\n",
       "\n",
       "    .dataframe tbody tr th {\n",
       "        vertical-align: top;\n",
       "    }\n",
       "\n",
       "    .dataframe thead th {\n",
       "        text-align: right;\n",
       "    }\n",
       "</style>\n",
       "<table border=\"1\" class=\"dataframe\">\n",
       "  <thead>\n",
       "    <tr style=\"text-align: right;\">\n",
       "      <th></th>\n",
       "      <th>Commission</th>\n",
       "      <th>Earning</th>\n",
       "      <th>Fund</th>\n",
       "      <th>Market</th>\n",
       "      <th>Tax</th>\n",
       "      <th>Value</th>\n",
       "    </tr>\n",
       "  </thead>\n",
       "  <tbody>\n",
       "    <tr>\n",
       "      <th>2015-12-31</th>\n",
       "      <td>2637.37</td>\n",
       "      <td>80460.04</td>\n",
       "      <td>1628067.2</td>\n",
       "      <td>857420.61</td>\n",
       "      <td>2089.18</td>\n",
       "      <td>1659204.06</td>\n",
       "    </tr>\n",
       "    <tr>\n",
       "      <th>2016-12-31</th>\n",
       "      <td>7300.27</td>\n",
       "      <td>367207.10</td>\n",
       "      <td>1625529.2</td>\n",
       "      <td>1381270.00</td>\n",
       "      <td>9464.09</td>\n",
       "      <td>1925847.14</td>\n",
       "    </tr>\n",
       "    <tr>\n",
       "      <th>2017-12-31</th>\n",
       "      <td>13323.51</td>\n",
       "      <td>2437615.57</td>\n",
       "      <td>1422282.2</td>\n",
       "      <td>3066060.00</td>\n",
       "      <td>25123.43</td>\n",
       "      <td>3606001.23</td>\n",
       "    </tr>\n",
       "  </tbody>\n",
       "</table>\n",
       "</div>"
      ],
      "text/plain": [
       "            Commission     Earning       Fund      Market       Tax  \\\n",
       "2015-12-31     2637.37    80460.04  1628067.2   857420.61   2089.18   \n",
       "2016-12-31     7300.27   367207.10  1625529.2  1381270.00   9464.09   \n",
       "2017-12-31    13323.51  2437615.57  1422282.2  3066060.00  25123.43   \n",
       "\n",
       "                 Value  \n",
       "2015-12-31  1659204.06  \n",
       "2016-12-31  1925847.14  \n",
       "2017-12-31  3606001.23  "
      ]
     },
     "execution_count": 12,
     "metadata": {},
     "output_type": "execute_result"
    }
   ],
   "source": [
    "period = period_cny + period_hkd2cny\n",
    "period"
   ]
  },
  {
   "cell_type": "code",
   "execution_count": null,
   "metadata": {},
   "outputs": [],
   "source": []
  }
 ],
 "metadata": {
  "kernelspec": {
   "display_name": "Python 3",
   "language": "python",
   "name": "python3"
  },
  "language_info": {
   "codemirror_mode": {
    "name": "ipython",
    "version": 3
   },
   "file_extension": ".py",
   "mimetype": "text/x-python",
   "name": "python",
   "nbconvert_exporter": "python",
   "pygments_lexer": "ipython3",
   "version": "3.6.3"
  }
 },
 "nbformat": 4,
 "nbformat_minor": 2
}
