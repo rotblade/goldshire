{
 "cells": [
  {
   "cell_type": "code",
   "execution_count": 12,
   "metadata": {},
   "outputs": [],
   "source": [
    "import datetime\n",
    "import pandas as pd\n",
    "from invest.portfolio import Portfolio\n",
    "from invest.investment import Investment\n",
    "from config import Config"
   ]
  },
  {
   "cell_type": "code",
   "execution_count": 13,
   "metadata": {},
   "outputs": [],
   "source": [
    "invests = []\n",
    "for k, v in Config.FUNDS.items():\n",
    "    pfls = [Portfolio(c, Config.STOCKS[c]) for c in v[1:]]\n",
    "    invests.append(Investment(k, v[0], pfls))"
   ]
  },
  {
   "cell_type": "code",
   "execution_count": 14,
   "metadata": {},
   "outputs": [],
   "source": [
    "invest_cny = invests[0]\n",
    "invest_hkd = invests[1]"
   ]
  },
  {
   "cell_type": "code",
   "execution_count": 15,
   "metadata": {},
   "outputs": [],
   "source": [
    "end = datetime.date(2017, 12, 29)\n",
    "value_cny = invest_cny.getPeriodData().drop(['Currency'], axis=1)\n",
    "value_hkd = invest_hkd.getPeriodData().drop(['Currency'], axis=1)"
   ]
  },
  {
   "cell_type": "code",
   "execution_count": 22,
   "metadata": {},
   "outputs": [],
   "source": [
    "rate_df = pd.read_csv(Config.H2C_RATE_FILE, parse_dates=['Date'], index_col=0)\n",
    "rate = rate_df.loc[end]['Rate']\n",
    "print(rate)rate\n",
    "final = value_cny + value_hkd*rate"
   ]
  },
  {
   "cell_type": "code",
   "execution_count": 10,
   "metadata": {},
   "outputs": [
    {
     "data": {
      "text/html": [
       "<div>\n",
       "<style scoped>\n",
       "    .dataframe tbody tr th:only-of-type {\n",
       "        vertical-align: middle;\n",
       "    }\n",
       "\n",
       "    .dataframe tbody tr th {\n",
       "        vertical-align: top;\n",
       "    }\n",
       "\n",
       "    .dataframe thead th {\n",
       "        text-align: right;\n",
       "    }\n",
       "</style>\n",
       "<table border=\"1\" class=\"dataframe\">\n",
       "  <thead>\n",
       "    <tr style=\"text-align: right;\">\n",
       "      <th></th>\n",
       "      <th>Commission</th>\n",
       "      <th>Earning</th>\n",
       "      <th>Fund</th>\n",
       "      <th>Market</th>\n",
       "      <th>Tax</th>\n",
       "      <th>Value</th>\n",
       "    </tr>\n",
       "  </thead>\n",
       "  <tbody>\n",
       "    <tr>\n",
       "      <th>2015-12-31</th>\n",
       "      <td>0.00</td>\n",
       "      <td>0.00</td>\n",
       "      <td>1405000.0</td>\n",
       "      <td>703004.5</td>\n",
       "      <td>0.00</td>\n",
       "      <td>1405000.00</td>\n",
       "    </tr>\n",
       "    <tr>\n",
       "      <th>2016-12-31</th>\n",
       "      <td>1221.81</td>\n",
       "      <td>159775.52</td>\n",
       "      <td>1197962.0</td>\n",
       "      <td>571640.0</td>\n",
       "      <td>2901.29</td>\n",
       "      <td>1357737.52</td>\n",
       "    </tr>\n",
       "    <tr>\n",
       "      <th>2017-12-31</th>\n",
       "      <td>2349.80</td>\n",
       "      <td>711366.43</td>\n",
       "      <td>1321715.0</td>\n",
       "      <td>1844840.0</td>\n",
       "      <td>6117.21</td>\n",
       "      <td>2033081.43</td>\n",
       "    </tr>\n",
       "  </tbody>\n",
       "</table>\n",
       "</div>"
      ],
      "text/plain": [
       "            Commission    Earning       Fund     Market      Tax       Value\n",
       "2015-12-31        0.00       0.00  1405000.0   703004.5     0.00  1405000.00\n",
       "2016-12-31     1221.81  159775.52  1197962.0   571640.0  2901.29  1357737.52\n",
       "2017-12-31     2349.80  711366.43  1321715.0  1844840.0  6117.21  2033081.43"
      ]
     },
     "execution_count": 10,
     "metadata": {},
     "output_type": "execute_result"
    }
   ],
   "source": [
    "value_cny"
   ]
  },
  {
   "cell_type": "code",
   "execution_count": 11,
   "metadata": {},
   "outputs": [
    {
     "data": {
      "text/html": [
       "<div>\n",
       "<style scoped>\n",
       "    .dataframe tbody tr th:only-of-type {\n",
       "        vertical-align: middle;\n",
       "    }\n",
       "\n",
       "    .dataframe tbody tr th {\n",
       "        vertical-align: top;\n",
       "    }\n",
       "\n",
       "    .dataframe thead th {\n",
       "        text-align: right;\n",
       "    }\n",
       "</style>\n",
       "<table border=\"1\" class=\"dataframe\">\n",
       "  <thead>\n",
       "    <tr style=\"text-align: right;\">\n",
       "      <th></th>\n",
       "      <th>Commission</th>\n",
       "      <th>Earning</th>\n",
       "      <th>Fund</th>\n",
       "      <th>Market</th>\n",
       "      <th>Tax</th>\n",
       "      <th>Value</th>\n",
       "    </tr>\n",
       "  </thead>\n",
       "  <tbody>\n",
       "    <tr>\n",
       "      <th>2015-12-31</th>\n",
       "      <td>2637.37</td>\n",
       "      <td>80460.04</td>\n",
       "      <td>223067.2</td>\n",
       "      <td>154416.11</td>\n",
       "      <td>2089.18</td>\n",
       "      <td>303527.24</td>\n",
       "    </tr>\n",
       "    <tr>\n",
       "      <th>2016-12-31</th>\n",
       "      <td>6088.26</td>\n",
       "      <td>169931.38</td>\n",
       "      <td>457567.2</td>\n",
       "      <td>809630.00</td>\n",
       "      <td>6601.23</td>\n",
       "      <td>627498.58</td>\n",
       "    </tr>\n",
       "    <tr>\n",
       "      <th>2017-12-31</th>\n",
       "      <td>11059.17</td>\n",
       "      <td>1784773.19</td>\n",
       "      <td>100567.2</td>\n",
       "      <td>1221220.00</td>\n",
       "      <td>19634.06</td>\n",
       "      <td>1885340.39</td>\n",
       "    </tr>\n",
       "  </tbody>\n",
       "</table>\n",
       "</div>"
      ],
      "text/plain": [
       "            Commission     Earning      Fund      Market       Tax       Value\n",
       "2015-12-31     2637.37    80460.04  223067.2   154416.11   2089.18   303527.24\n",
       "2016-12-31     6088.26   169931.38  457567.2   809630.00   6601.23   627498.58\n",
       "2017-12-31    11059.17  1784773.19  100567.2  1221220.00  19634.06  1885340.39"
      ]
     },
     "execution_count": 11,
     "metadata": {},
     "output_type": "execute_result"
    }
   ],
   "source": [
    "value_hkd"
   ]
  },
  {
   "cell_type": "code",
   "execution_count": 9,
   "metadata": {},
   "outputs": [
    {
     "data": {
      "text/html": [
       "<div>\n",
       "<style scoped>\n",
       "    .dataframe tbody tr th:only-of-type {\n",
       "        vertical-align: middle;\n",
       "    }\n",
       "\n",
       "    .dataframe tbody tr th {\n",
       "        vertical-align: top;\n",
       "    }\n",
       "\n",
       "    .dataframe thead th {\n",
       "        text-align: right;\n",
       "    }\n",
       "</style>\n",
       "<table border=\"1\" class=\"dataframe\">\n",
       "  <thead>\n",
       "    <tr style=\"text-align: right;\">\n",
       "      <th></th>\n",
       "      <th>Commission</th>\n",
       "      <th>Earning</th>\n",
       "      <th>Fund</th>\n",
       "      <th>Market</th>\n",
       "      <th>Tax</th>\n",
       "      <th>Value</th>\n",
       "    </tr>\n",
       "  </thead>\n",
       "  <tbody>\n",
       "    <tr>\n",
       "      <th>2015-12-31</th>\n",
       "      <td>2196.67</td>\n",
       "      <td>67015.17</td>\n",
       "      <td>1590792.67</td>\n",
       "      <td>831617.68</td>\n",
       "      <td>1740.08</td>\n",
       "      <td>1657807.84</td>\n",
       "    </tr>\n",
       "    <tr>\n",
       "      <th>2016-12-31</th>\n",
       "      <td>6292.72</td>\n",
       "      <td>301311.37</td>\n",
       "      <td>1579069.72</td>\n",
       "      <td>1245980.83</td>\n",
       "      <td>8399.45</td>\n",
       "      <td>1880381.09</td>\n",
       "    </tr>\n",
       "    <tr>\n",
       "      <th>2017-12-31</th>\n",
       "      <td>11560.98</td>\n",
       "      <td>2197904.02</td>\n",
       "      <td>1405477.42</td>\n",
       "      <td>2861994.14</td>\n",
       "      <td>22470.42</td>\n",
       "      <td>3603381.44</td>\n",
       "    </tr>\n",
       "  </tbody>\n",
       "</table>\n",
       "</div>"
      ],
      "text/plain": [
       "            Commission     Earning        Fund      Market       Tax  \\\n",
       "2015-12-31     2196.67    67015.17  1590792.67   831617.68   1740.08   \n",
       "2016-12-31     6292.72   301311.37  1579069.72  1245980.83   8399.45   \n",
       "2017-12-31    11560.98  2197904.02  1405477.42  2861994.14  22470.42   \n",
       "\n",
       "                 Value  \n",
       "2015-12-31  1657807.84  \n",
       "2016-12-31  1880381.09  \n",
       "2017-12-31  3603381.44  "
      ]
     },
     "execution_count": 9,
     "metadata": {},
     "output_type": "execute_result"
    }
   ],
   "source": [
    "final.round(2)"
   ]
  },
  {
   "cell_type": "code",
   "execution_count": null,
   "metadata": {},
   "outputs": [],
   "source": []
  }
 ],
 "metadata": {
  "kernelspec": {
   "display_name": "Python 3",
   "language": "python",
   "name": "python3"
  },
  "language_info": {
   "codemirror_mode": {
    "name": "ipython",
    "version": 3
   },
   "file_extension": ".py",
   "mimetype": "text/x-python",
   "name": "python",
   "nbconvert_exporter": "python",
   "pygments_lexer": "ipython3",
   "version": "3.6.4"
  }
 },
 "nbformat": 4,
 "nbformat_minor": 2
}
