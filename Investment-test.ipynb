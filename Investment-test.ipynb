{
 "cells": [
  {
   "cell_type": "code",
   "execution_count": 1,
   "metadata": {},
   "outputs": [],
   "source": [
    "import datetime\n",
    "from invest.portfolio import Portfolio\n",
    "from invest.investment import Investment\n",
    "from config import Config"
   ]
  },
  {
   "cell_type": "code",
   "execution_count": 2,
   "metadata": {},
   "outputs": [],
   "source": [
    "invests = []\n",
    "for k, v in Config.FUNDS.items():\n",
    "    pfls = [Portfolio(c, Config.STOCKS[c]) for c in v[1:]]\n",
    "    invests.append(Investment(k, v[0], pfls))"
   ]
  },
  {
   "cell_type": "code",
   "execution_count": 3,
   "metadata": {},
   "outputs": [],
   "source": [
    "end = datetime.date(2017, 12, 31)\n",
    "data = []\n",
    "for i in invests:\n",
    "    data.append(i.getData())"
   ]
  },
  {
   "cell_type": "code",
   "execution_count": 5,
   "metadata": {},
   "outputs": [
    {
     "data": {
      "text/html": [
       "<div>\n",
       "<style scoped>\n",
       "    .dataframe tbody tr th:only-of-type {\n",
       "        vertical-align: middle;\n",
       "    }\n",
       "\n",
       "    .dataframe tbody tr th {\n",
       "        vertical-align: top;\n",
       "    }\n",
       "\n",
       "    .dataframe thead th {\n",
       "        text-align: right;\n",
       "    }\n",
       "</style>\n",
       "<table border=\"1\" class=\"dataframe\">\n",
       "  <thead>\n",
       "    <tr style=\"text-align: right;\">\n",
       "      <th></th>\n",
       "      <th>Commission</th>\n",
       "      <th>Currency</th>\n",
       "      <th>Earning</th>\n",
       "      <th>Fund</th>\n",
       "      <th>Market</th>\n",
       "      <th>Tax</th>\n",
       "      <th>Value</th>\n",
       "    </tr>\n",
       "  </thead>\n",
       "  <tbody>\n",
       "    <tr>\n",
       "      <th>2018-01-14</th>\n",
       "      <td>11305.3</td>\n",
       "      <td>HKD</td>\n",
       "      <td>1922728.22</td>\n",
       "      <td>100567.2</td>\n",
       "      <td>1749430.0</td>\n",
       "      <td>20309.07</td>\n",
       "      <td>2023295.42</td>\n",
       "    </tr>\n",
       "  </tbody>\n",
       "</table>\n",
       "</div>"
      ],
      "text/plain": [
       "            Commission Currency     Earning      Fund     Market       Tax  \\\n",
       "2018-01-14     11305.3      HKD  1922728.22  100567.2  1749430.0  20309.07   \n",
       "\n",
       "                 Value  \n",
       "2018-01-14  2023295.42  "
      ]
     },
     "execution_count": 5,
     "metadata": {},
     "output_type": "execute_result"
    }
   ],
   "source": [
    "data[1]"
   ]
  },
  {
   "cell_type": "code",
   "execution_count": null,
   "metadata": {},
   "outputs": [],
   "source": []
  }
 ],
 "metadata": {
  "kernelspec": {
   "display_name": "Python 3",
   "language": "python",
   "name": "python3"
  },
  "language_info": {
   "codemirror_mode": {
    "name": "ipython",
    "version": 3
   },
   "file_extension": ".py",
   "mimetype": "text/x-python",
   "name": "python",
   "nbconvert_exporter": "python",
   "pygments_lexer": "ipython3",
   "version": "3.6.3"
  }
 },
 "nbformat": 4,
 "nbformat_minor": 2
}
