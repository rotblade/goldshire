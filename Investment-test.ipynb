{
 "cells": [
  {
   "cell_type": "code",
   "execution_count": 1,
   "metadata": {},
   "outputs": [],
   "source": [
    "import datetime\n",
    "import pandas as pd\n",
    "from invest.portfolio import Portfolio\n",
    "from invest.investment import Investment\n",
    "from config import Config"
   ]
  },
  {
   "cell_type": "code",
   "execution_count": 20,
   "metadata": {},
   "outputs": [],
   "source": [
    "invests = []\n",
    "for k, v in Config.FUNDS.items():\n",
    "    pfls = [Portfolio(c, Config.STOCKS[c]) for c in v[1:]]\n",
    "    invests.append(Investment(k, v[0], pfls))"
   ]
  },
  {
   "cell_type": "code",
   "execution_count": 21,
   "metadata": {},
   "outputs": [],
   "source": [
    "invest_cny = invests[0]\n",
    "invest_hkd = invests[1]"
   ]
  },
  {
   "cell_type": "code",
   "execution_count": 22,
   "metadata": {},
   "outputs": [],
   "source": [
    "end = datetime.date(2017, 12, 29)\n",
    "value_cny = invest_cny.getPeriodData().drop(['Currency'], axis=1)\n",
    "value_hkd = invest_hkd.getPeriodData().drop(['Currency'], axis=1)"
   ]
  },
  {
   "cell_type": "code",
   "execution_count": 23,
   "metadata": {},
   "outputs": [],
   "source": [
    "rate_df = pd.read_csv(Config.H2C_RATE_FILE, parse_dates=['Date'], index_col=0)"
   ]
  },
  {
   "cell_type": "code",
   "execution_count": 24,
   "metadata": {},
   "outputs": [
    {
     "data": {
      "text/html": [
       "<div>\n",
       "<style scoped>\n",
       "    .dataframe tbody tr th:only-of-type {\n",
       "        vertical-align: middle;\n",
       "    }\n",
       "\n",
       "    .dataframe tbody tr th {\n",
       "        vertical-align: top;\n",
       "    }\n",
       "\n",
       "    .dataframe thead th {\n",
       "        text-align: right;\n",
       "    }\n",
       "</style>\n",
       "<table border=\"1\" class=\"dataframe\">\n",
       "  <thead>\n",
       "    <tr style=\"text-align: right;\">\n",
       "      <th></th>\n",
       "      <th>Commission</th>\n",
       "      <th>Earning</th>\n",
       "      <th>Fund</th>\n",
       "      <th>Market</th>\n",
       "      <th>Tax</th>\n",
       "      <th>Value</th>\n",
       "    </tr>\n",
       "  </thead>\n",
       "  <tbody>\n",
       "    <tr>\n",
       "      <th>2015-12-31</th>\n",
       "      <td>0.00</td>\n",
       "      <td>0.00</td>\n",
       "      <td>1405000.0</td>\n",
       "      <td>703004.5</td>\n",
       "      <td>0.00</td>\n",
       "      <td>1405000.00</td>\n",
       "    </tr>\n",
       "    <tr>\n",
       "      <th>2016-12-31</th>\n",
       "      <td>1301.17</td>\n",
       "      <td>184073.53</td>\n",
       "      <td>1167962.0</td>\n",
       "      <td>900130.0</td>\n",
       "      <td>3212.96</td>\n",
       "      <td>1352035.53</td>\n",
       "    </tr>\n",
       "    <tr>\n",
       "      <th>2017-12-31</th>\n",
       "      <td>2970.19</td>\n",
       "      <td>1024190.26</td>\n",
       "      <td>1321715.0</td>\n",
       "      <td>1891240.0</td>\n",
       "      <td>8974.61</td>\n",
       "      <td>2345905.26</td>\n",
       "    </tr>\n",
       "  </tbody>\n",
       "</table>\n",
       "</div>"
      ],
      "text/plain": [
       "            Commission     Earning       Fund     Market      Tax       Value\n",
       "2015-12-31        0.00        0.00  1405000.0   703004.5     0.00  1405000.00\n",
       "2016-12-31     1301.17   184073.53  1167962.0   900130.0  3212.96  1352035.53\n",
       "2017-12-31     2970.19  1024190.26  1321715.0  1891240.0  8974.61  2345905.26"
      ]
     },
     "execution_count": 24,
     "metadata": {},
     "output_type": "execute_result"
    }
   ],
   "source": [
    "value_cny"
   ]
  },
  {
   "cell_type": "code",
   "execution_count": 25,
   "metadata": {},
   "outputs": [
    {
     "data": {
      "text/html": [
       "<div>\n",
       "<style scoped>\n",
       "    .dataframe tbody tr th:only-of-type {\n",
       "        vertical-align: middle;\n",
       "    }\n",
       "\n",
       "    .dataframe tbody tr th {\n",
       "        vertical-align: top;\n",
       "    }\n",
       "\n",
       "    .dataframe thead th {\n",
       "        text-align: right;\n",
       "    }\n",
       "</style>\n",
       "<table border=\"1\" class=\"dataframe\">\n",
       "  <thead>\n",
       "    <tr style=\"text-align: right;\">\n",
       "      <th></th>\n",
       "      <th>Commission</th>\n",
       "      <th>Earning</th>\n",
       "      <th>Fund</th>\n",
       "      <th>Market</th>\n",
       "      <th>Tax</th>\n",
       "      <th>Value</th>\n",
       "    </tr>\n",
       "  </thead>\n",
       "  <tbody>\n",
       "    <tr>\n",
       "      <th>2015-12-31</th>\n",
       "      <td>2637.37</td>\n",
       "      <td>80460.04</td>\n",
       "      <td>223067.2</td>\n",
       "      <td>154416.11</td>\n",
       "      <td>2089.18</td>\n",
       "      <td>254204.06</td>\n",
       "    </tr>\n",
       "    <tr>\n",
       "      <th>2016-12-31</th>\n",
       "      <td>5999.10</td>\n",
       "      <td>183133.57</td>\n",
       "      <td>457567.2</td>\n",
       "      <td>481140.00</td>\n",
       "      <td>6251.13</td>\n",
       "      <td>573811.61</td>\n",
       "    </tr>\n",
       "    <tr>\n",
       "      <th>2017-12-31</th>\n",
       "      <td>10353.32</td>\n",
       "      <td>1413425.31</td>\n",
       "      <td>100567.2</td>\n",
       "      <td>1174820.00</td>\n",
       "      <td>16148.82</td>\n",
       "      <td>1260095.97</td>\n",
       "    </tr>\n",
       "  </tbody>\n",
       "</table>\n",
       "</div>"
      ],
      "text/plain": [
       "            Commission     Earning      Fund      Market       Tax       Value\n",
       "2015-12-31     2637.37    80460.04  223067.2   154416.11   2089.18   254204.06\n",
       "2016-12-31     5999.10   183133.57  457567.2   481140.00   6251.13   573811.61\n",
       "2017-12-31    10353.32  1413425.31  100567.2  1174820.00  16148.82  1260095.97"
      ]
     },
     "execution_count": 25,
     "metadata": {},
     "output_type": "execute_result"
    }
   ],
   "source": [
    "value_hkd2cny = value_hkd.join(rate_df)\n",
    "#value_hkd2cny\n",
    "value_hkd2cny['Value'] = value_hkd2cny['Value'] * value_hkd2cny['Rate']\n",
    "value_hkd2cny = value_hkd2cny.drop(['Rate'], axis=1).round(2)\n",
    "value_hkd2cny"
   ]
  },
  {
   "cell_type": "code",
   "execution_count": 26,
   "metadata": {},
   "outputs": [
    {
     "data": {
      "text/html": [
       "<div>\n",
       "<style scoped>\n",
       "    .dataframe tbody tr th:only-of-type {\n",
       "        vertical-align: middle;\n",
       "    }\n",
       "\n",
       "    .dataframe tbody tr th {\n",
       "        vertical-align: top;\n",
       "    }\n",
       "\n",
       "    .dataframe thead th {\n",
       "        text-align: right;\n",
       "    }\n",
       "</style>\n",
       "<table border=\"1\" class=\"dataframe\">\n",
       "  <thead>\n",
       "    <tr style=\"text-align: right;\">\n",
       "      <th></th>\n",
       "      <th>Commission</th>\n",
       "      <th>Earning</th>\n",
       "      <th>Fund</th>\n",
       "      <th>Market</th>\n",
       "      <th>Tax</th>\n",
       "      <th>Value</th>\n",
       "    </tr>\n",
       "  </thead>\n",
       "  <tbody>\n",
       "    <tr>\n",
       "      <th>2015-12-31</th>\n",
       "      <td>2637.37</td>\n",
       "      <td>80460.04</td>\n",
       "      <td>1628067.2</td>\n",
       "      <td>857420.61</td>\n",
       "      <td>2089.18</td>\n",
       "      <td>1659204.06</td>\n",
       "    </tr>\n",
       "    <tr>\n",
       "      <th>2016-12-31</th>\n",
       "      <td>7300.27</td>\n",
       "      <td>367207.10</td>\n",
       "      <td>1625529.2</td>\n",
       "      <td>1381270.00</td>\n",
       "      <td>9464.09</td>\n",
       "      <td>1925847.14</td>\n",
       "    </tr>\n",
       "    <tr>\n",
       "      <th>2017-12-31</th>\n",
       "      <td>13323.51</td>\n",
       "      <td>2437615.57</td>\n",
       "      <td>1422282.2</td>\n",
       "      <td>3066060.00</td>\n",
       "      <td>25123.43</td>\n",
       "      <td>3606001.23</td>\n",
       "    </tr>\n",
       "  </tbody>\n",
       "</table>\n",
       "</div>"
      ],
      "text/plain": [
       "            Commission     Earning       Fund      Market       Tax  \\\n",
       "2015-12-31     2637.37    80460.04  1628067.2   857420.61   2089.18   \n",
       "2016-12-31     7300.27   367207.10  1625529.2  1381270.00   9464.09   \n",
       "2017-12-31    13323.51  2437615.57  1422282.2  3066060.00  25123.43   \n",
       "\n",
       "                 Value  \n",
       "2015-12-31  1659204.06  \n",
       "2016-12-31  1925847.14  \n",
       "2017-12-31  3606001.23  "
      ]
     },
     "execution_count": 26,
     "metadata": {},
     "output_type": "execute_result"
    }
   ],
   "source": [
    "final = value_cny + value_hkd2cny\n",
    "final"
   ]
  },
  {
   "cell_type": "code",
   "execution_count": null,
   "metadata": {},
   "outputs": [],
   "source": []
  }
 ],
 "metadata": {
  "kernelspec": {
   "display_name": "Python 3",
   "language": "python",
   "name": "python3"
  },
  "language_info": {
   "codemirror_mode": {
    "name": "ipython",
    "version": 3
   },
   "file_extension": ".py",
   "mimetype": "text/x-python",
   "name": "python",
   "nbconvert_exporter": "python",
   "pygments_lexer": "ipython3",
   "version": "3.6.4"
  }
 },
 "nbformat": 4,
 "nbformat_minor": 2
}
