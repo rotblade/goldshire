{
 "cells": [
  {
   "cell_type": "code",
   "execution_count": 19,
   "metadata": {},
   "outputs": [],
   "source": [
    "import datetime\n",
    "import pandas as pd\n",
    "from invest.portfolio import Portfolio\n",
    "from invest.investment import Investment\n",
    "from config import Config"
   ]
  },
  {
   "cell_type": "code",
   "execution_count": 20,
   "metadata": {},
   "outputs": [],
   "source": [
    "invests = []\n",
    "for k, v in Config.FUNDS.items():\n",
    "    pfls = [Portfolio(c, Config.STOCKS[c]) for c in v[1:]]\n",
    "    invests.append(Investment(k, v[0], pfls))"
   ]
  },
  {
   "cell_type": "code",
   "execution_count": 21,
   "metadata": {},
   "outputs": [],
   "source": [
    "end = datetime.date(2017, 12, 31)\n",
    "data = []\n",
    "for i in invests:\n",
    "    data.append(i.getData())"
   ]
  },
  {
   "cell_type": "code",
   "execution_count": 22,
   "metadata": {},
   "outputs": [],
   "source": [
    "freq = 'M'\n",
    "period_data = []\n",
    "for i in invests:\n",
    "    period_data.append(i.getPeriodData())"
   ]
  },
  {
   "cell_type": "code",
   "execution_count": 23,
   "metadata": {},
   "outputs": [
    {
     "data": {
      "text/html": [
       "<div>\n",
       "<style scoped>\n",
       "    .dataframe tbody tr th:only-of-type {\n",
       "        vertical-align: middle;\n",
       "    }\n",
       "\n",
       "    .dataframe tbody tr th {\n",
       "        vertical-align: top;\n",
       "    }\n",
       "\n",
       "    .dataframe thead th {\n",
       "        text-align: right;\n",
       "    }\n",
       "</style>\n",
       "<table border=\"1\" class=\"dataframe\">\n",
       "  <thead>\n",
       "    <tr style=\"text-align: right;\">\n",
       "      <th></th>\n",
       "      <th>Commission</th>\n",
       "      <th>Currency</th>\n",
       "      <th>Earning</th>\n",
       "      <th>Fund</th>\n",
       "      <th>Market</th>\n",
       "      <th>Tax</th>\n",
       "      <th>Value</th>\n",
       "    </tr>\n",
       "  </thead>\n",
       "  <tbody>\n",
       "    <tr>\n",
       "      <th>2015-12-31</th>\n",
       "      <td>0.00</td>\n",
       "      <td>CNY</td>\n",
       "      <td>0.00</td>\n",
       "      <td>1405000.0</td>\n",
       "      <td>703004.5</td>\n",
       "      <td>0.00</td>\n",
       "      <td>1405000.00</td>\n",
       "    </tr>\n",
       "    <tr>\n",
       "      <th>2016-12-31</th>\n",
       "      <td>1226.81</td>\n",
       "      <td>CNY</td>\n",
       "      <td>159655.52</td>\n",
       "      <td>1197962.0</td>\n",
       "      <td>579522.5</td>\n",
       "      <td>2901.29</td>\n",
       "      <td>1357617.52</td>\n",
       "    </tr>\n",
       "    <tr>\n",
       "      <th>2017-12-31</th>\n",
       "      <td>2354.80</td>\n",
       "      <td>CNY</td>\n",
       "      <td>713961.43</td>\n",
       "      <td>1371715.0</td>\n",
       "      <td>1855460.0</td>\n",
       "      <td>6117.21</td>\n",
       "      <td>2085676.43</td>\n",
       "    </tr>\n",
       "  </tbody>\n",
       "</table>\n",
       "</div>"
      ],
      "text/plain": [
       "            Commission Currency    Earning       Fund     Market      Tax  \\\n",
       "2015-12-31        0.00      CNY       0.00  1405000.0   703004.5     0.00   \n",
       "2016-12-31     1226.81      CNY  159655.52  1197962.0   579522.5  2901.29   \n",
       "2017-12-31     2354.80      CNY  713961.43  1371715.0  1855460.0  6117.21   \n",
       "\n",
       "                 Value  \n",
       "2015-12-31  1405000.00  \n",
       "2016-12-31  1357617.52  \n",
       "2017-12-31  2085676.43  "
      ]
     },
     "execution_count": 23,
     "metadata": {},
     "output_type": "execute_result"
    }
   ],
   "source": [
    "period_data[0]"
   ]
  },
  {
   "cell_type": "code",
   "execution_count": 24,
   "metadata": {},
   "outputs": [
    {
     "data": {
      "text/html": [
       "<div>\n",
       "<style scoped>\n",
       "    .dataframe tbody tr th:only-of-type {\n",
       "        vertical-align: middle;\n",
       "    }\n",
       "\n",
       "    .dataframe tbody tr th {\n",
       "        vertical-align: top;\n",
       "    }\n",
       "\n",
       "    .dataframe thead th {\n",
       "        text-align: right;\n",
       "    }\n",
       "</style>\n",
       "<table border=\"1\" class=\"dataframe\">\n",
       "  <thead>\n",
       "    <tr style=\"text-align: right;\">\n",
       "      <th></th>\n",
       "      <th>Commission</th>\n",
       "      <th>Currency</th>\n",
       "      <th>Earning</th>\n",
       "      <th>Fund</th>\n",
       "      <th>Market</th>\n",
       "      <th>Tax</th>\n",
       "      <th>Value</th>\n",
       "    </tr>\n",
       "  </thead>\n",
       "  <tbody>\n",
       "    <tr>\n",
       "      <th>2015-12-31</th>\n",
       "      <td>2637.37</td>\n",
       "      <td>HKD</td>\n",
       "      <td>80460.04</td>\n",
       "      <td>223067.2</td>\n",
       "      <td>154416.11</td>\n",
       "      <td>2089.18</td>\n",
       "      <td>303527.24</td>\n",
       "    </tr>\n",
       "    <tr>\n",
       "      <th>2016-12-31</th>\n",
       "      <td>6088.26</td>\n",
       "      <td>HKD</td>\n",
       "      <td>169931.38</td>\n",
       "      <td>457567.2</td>\n",
       "      <td>809630.00</td>\n",
       "      <td>6601.23</td>\n",
       "      <td>627498.58</td>\n",
       "    </tr>\n",
       "    <tr>\n",
       "      <th>2017-12-31</th>\n",
       "      <td>11059.17</td>\n",
       "      <td>HKD</td>\n",
       "      <td>1784773.19</td>\n",
       "      <td>100567.2</td>\n",
       "      <td>1221220.00</td>\n",
       "      <td>19634.06</td>\n",
       "      <td>1885340.39</td>\n",
       "    </tr>\n",
       "  </tbody>\n",
       "</table>\n",
       "</div>"
      ],
      "text/plain": [
       "            Commission Currency     Earning      Fund      Market       Tax  \\\n",
       "2015-12-31     2637.37      HKD    80460.04  223067.2   154416.11   2089.18   \n",
       "2016-12-31     6088.26      HKD   169931.38  457567.2   809630.00   6601.23   \n",
       "2017-12-31    11059.17      HKD  1784773.19  100567.2  1221220.00  19634.06   \n",
       "\n",
       "                 Value  \n",
       "2015-12-31   303527.24  \n",
       "2016-12-31   627498.58  \n",
       "2017-12-31  1885340.39  "
      ]
     },
     "execution_count": 24,
     "metadata": {},
     "output_type": "execute_result"
    }
   ],
   "source": [
    "period_data[1]"
   ]
  },
  {
   "cell_type": "code",
   "execution_count": null,
   "metadata": {},
   "outputs": [],
   "source": []
  }
 ],
 "metadata": {
  "kernelspec": {
   "display_name": "Python 3",
   "language": "python",
   "name": "python3"
  },
  "language_info": {
   "codemirror_mode": {
    "name": "ipython",
    "version": 3
   },
   "file_extension": ".py",
   "mimetype": "text/x-python",
   "name": "python",
   "nbconvert_exporter": "python",
   "pygments_lexer": "ipython3",
   "version": "3.6.3"
  }
 },
 "nbformat": 4,
 "nbformat_minor": 2
}
