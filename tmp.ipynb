{
 "cells": [
  {
   "cell_type": "code",
   "execution_count": 30,
   "metadata": {},
   "outputs": [],
   "source": [
    "import datetime\n",
    "import pandas as pd\n",
    "from invest.portfolio import Portfolio\n",
    "from invest.investment import Investment\n",
    "from config import Config"
   ]
  },
  {
   "cell_type": "code",
   "execution_count": 31,
   "metadata": {},
   "outputs": [],
   "source": [
    "invests = []\n",
    "for k, v in Config.FUNDS.items():\n",
    "    pfls = [Portfolio(c, Config.STOCKS[c]) for c in v[1:]]\n",
    "    invests.append(Investment(k, v[0], pfls))\n",
    "invest_cny = invests[0]\n",
    "invest_hkd = invests[1]"
   ]
  },
  {
   "cell_type": "code",
   "execution_count": 40,
   "metadata": {},
   "outputs": [],
   "source": [
    "end = pd.Timestamp(datetime.date(2018, 12, 31))\n",
    "latest_cny = invest_cny.getData(end)[['Fund', 'Earning', 'Value', 'Market', 'Commission', 'Tax']]"
   ]
  },
  {
   "cell_type": "code",
   "execution_count": 42,
   "metadata": {},
   "outputs": [
    {
     "data": {
      "text/plain": [
       "True"
      ]
     },
     "execution_count": 42,
     "metadata": {},
     "output_type": "execute_result"
    }
   ],
   "source": [
    "end.is_year_end"
   ]
  },
  {
   "cell_type": "code",
   "execution_count": 34,
   "metadata": {},
   "outputs": [],
   "source": [
    "df = pd.read_csv(Config.CSV_DIR/'freq_daily-cny.csv', parse_dates=['Date'], index_col=0)"
   ]
  },
  {
   "cell_type": "code",
   "execution_count": 35,
   "metadata": {},
   "outputs": [],
   "source": [
    "df.loc[end] = latest_cny.values[0]"
   ]
  },
  {
   "cell_type": "code",
   "execution_count": 36,
   "metadata": {},
   "outputs": [
    {
     "data": {
      "text/html": [
       "<div>\n",
       "<style scoped>\n",
       "    .dataframe tbody tr th:only-of-type {\n",
       "        vertical-align: middle;\n",
       "    }\n",
       "\n",
       "    .dataframe tbody tr th {\n",
       "        vertical-align: top;\n",
       "    }\n",
       "\n",
       "    .dataframe thead th {\n",
       "        text-align: right;\n",
       "    }\n",
       "</style>\n",
       "<table border=\"1\" class=\"dataframe\">\n",
       "  <thead>\n",
       "    <tr style=\"text-align: right;\">\n",
       "      <th></th>\n",
       "      <th>Fund</th>\n",
       "      <th>Earning</th>\n",
       "      <th>Value</th>\n",
       "      <th>Market</th>\n",
       "      <th>Commission</th>\n",
       "      <th>Tax</th>\n",
       "    </tr>\n",
       "    <tr>\n",
       "      <th>Date</th>\n",
       "      <th></th>\n",
       "      <th></th>\n",
       "      <th></th>\n",
       "      <th></th>\n",
       "      <th></th>\n",
       "      <th></th>\n",
       "    </tr>\n",
       "  </thead>\n",
       "  <tbody>\n",
       "    <tr>\n",
       "      <th>2018-01-15</th>\n",
       "      <td>1351715.0</td>\n",
       "      <td>1247775.38</td>\n",
       "      <td>2599490.38</td>\n",
       "      <td>2252305.0</td>\n",
       "      <td>3063.46</td>\n",
       "      <td>9161.32</td>\n",
       "    </tr>\n",
       "    <tr>\n",
       "      <th>2018-01-16</th>\n",
       "      <td>1351715.0</td>\n",
       "      <td>1266408.51</td>\n",
       "      <td>2618123.51</td>\n",
       "      <td>2270936.0</td>\n",
       "      <td>3063.46</td>\n",
       "      <td>9161.32</td>\n",
       "    </tr>\n",
       "    <tr>\n",
       "      <th>2018-01-17</th>\n",
       "      <td>1351715.0</td>\n",
       "      <td>1268687.37</td>\n",
       "      <td>2620402.37</td>\n",
       "      <td>2247499.0</td>\n",
       "      <td>3071.19</td>\n",
       "      <td>9187.07</td>\n",
       "    </tr>\n",
       "    <tr>\n",
       "      <th>2018-01-18</th>\n",
       "      <td>1351715.0</td>\n",
       "      <td>1270139.54</td>\n",
       "      <td>2621854.54</td>\n",
       "      <td>2280274.0</td>\n",
       "      <td>3071.19</td>\n",
       "      <td>9187.07</td>\n",
       "    </tr>\n",
       "    <tr>\n",
       "      <th>2018-01-19</th>\n",
       "      <td>1351715.0</td>\n",
       "      <td>1259364.00</td>\n",
       "      <td>2611079.00</td>\n",
       "      <td>2238023.0</td>\n",
       "      <td>3083.12</td>\n",
       "      <td>9218.59</td>\n",
       "    </tr>\n",
       "  </tbody>\n",
       "</table>\n",
       "</div>"
      ],
      "text/plain": [
       "                 Fund     Earning       Value     Market  Commission      Tax\n",
       "Date                                                                         \n",
       "2018-01-15  1351715.0  1247775.38  2599490.38  2252305.0     3063.46  9161.32\n",
       "2018-01-16  1351715.0  1266408.51  2618123.51  2270936.0     3063.46  9161.32\n",
       "2018-01-17  1351715.0  1268687.37  2620402.37  2247499.0     3071.19  9187.07\n",
       "2018-01-18  1351715.0  1270139.54  2621854.54  2280274.0     3071.19  9187.07\n",
       "2018-01-19  1351715.0  1259364.00  2611079.00  2238023.0     3083.12  9218.59"
      ]
     },
     "execution_count": 36,
     "metadata": {},
     "output_type": "execute_result"
    }
   ],
   "source": [
    "df.tail()"
   ]
  },
  {
   "cell_type": "code",
   "execution_count": null,
   "metadata": {},
   "outputs": [],
   "source": []
  }
 ],
 "metadata": {
  "kernelspec": {
   "display_name": "Python 3",
   "language": "python",
   "name": "python3"
  },
  "language_info": {
   "codemirror_mode": {
    "name": "ipython",
    "version": 3
   },
   "file_extension": ".py",
   "mimetype": "text/x-python",
   "name": "python",
   "nbconvert_exporter": "python",
   "pygments_lexer": "ipython3",
   "version": "3.6.3"
  }
 },
 "nbformat": 4,
 "nbformat_minor": 2
}
