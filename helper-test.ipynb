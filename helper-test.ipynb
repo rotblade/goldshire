{
 "cells": [
  {
   "cell_type": "code",
   "execution_count": 1,
   "metadata": {},
   "outputs": [],
   "source": [
    "from datetime import date, timedelta\n",
    "import requests\n",
    "from config import Config\n",
    "from helper import get_forexrate"
   ]
  },
  {
   "cell_type": "code",
   "execution_count": 2,
   "metadata": {},
   "outputs": [],
   "source": [
    "today = date.today()\n",
    "yesterday = today - timedelta(1)\n",
    "api_url = Config.NOWAPI_URL\n",
    "params = {'appkey': Config.NOWAPI_KEY, 'sign': Config.NOWAPI_SIGN, 'app': 'finance.stock_history', 'symbol': 'sz000961', 'date': yesterday}\n",
    "r = requests.get(api_url, params)"
   ]
  },
  {
   "cell_type": "code",
   "execution_count": 3,
   "metadata": {
    "scrolled": false
   },
   "outputs": [
    {
     "data": {
      "text/plain": [
       "{'result': {'disline': '1',\n",
       "  'lists': {'2018-01-18': {'days': '2018-01-18',\n",
       "    'high_price': '8.080',\n",
       "    'last_price': '7.680',\n",
       "    'low_price': '7.650',\n",
       "    'open_price': '8.000',\n",
       "    'scode': '000961',\n",
       "    'sname': '中南建设',\n",
       "    'sname_eng': '',\n",
       "    'stoid': '1528',\n",
       "    'symbol': 'sz000961',\n",
       "    'turn_volume': '504016832.000',\n",
       "    'uptime': '2018-01-18 14:59:42',\n",
       "    'volume': '64558906',\n",
       "    'yesy_price': '7.960'}},\n",
       "  'page': '1',\n",
       "  'totline': '1'},\n",
       " 'success': '1'}"
      ]
     },
     "execution_count": 3,
     "metadata": {},
     "output_type": "execute_result"
    }
   ],
   "source": [
    "r.json()"
   ]
  },
  {
   "cell_type": "code",
   "execution_count": null,
   "metadata": {},
   "outputs": [],
   "source": []
  }
 ],
 "metadata": {
  "kernelspec": {
   "display_name": "Python 3",
   "language": "python",
   "name": "python3"
  },
  "language_info": {
   "codemirror_mode": {
    "name": "ipython",
    "version": 3
   },
   "file_extension": ".py",
   "mimetype": "text/x-python",
   "name": "python",
   "nbconvert_exporter": "python",
   "pygments_lexer": "ipython3",
   "version": "3.6.4"
  }
 },
 "nbformat": 4,
 "nbformat_minor": 2
}
