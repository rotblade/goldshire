{
 "cells": [
  {
   "cell_type": "code",
   "execution_count": 1,
   "metadata": {},
   "outputs": [],
   "source": [
    "import datetime\n",
    "import pandas as pd\n",
    "from invest.portfolio import Portfolio\n",
    "from invest.investment import Investment\n",
    "from config import Config"
   ]
  },
  {
   "cell_type": "code",
   "execution_count": 9,
   "metadata": {},
   "outputs": [],
   "source": [
    "invests = []\n",
    "\n",
    "for k, v in Config.FUNDS.items():\n",
    "    pfls = [Portfolio(c, Config.STOCKS[c]) for c in v[1:]]\n",
    "    invests.append(Investment(k, v[0], pfls))\n",
    "    \n",
    "icny = invests[0]\n",
    "ihkd = invests[1]"
   ]
  },
  {
   "cell_type": "code",
   "execution_count": 10,
   "metadata": {
    "scrolled": true
   },
   "outputs": [],
   "source": [
    "icny_period = icny.getPeriodData(freq='M')"
   ]
  },
  {
   "cell_type": "code",
   "execution_count": 11,
   "metadata": {},
   "outputs": [],
   "source": [
    "ihkd_period = ihkd.getPeriodData(freq='M')"
   ]
  },
  {
   "cell_type": "code",
   "execution_count": 13,
   "metadata": {},
   "outputs": [],
   "source": [
    "icny_period[['Fund', 'Earning', 'Value', 'Market', 'Commission', 'Tax']].to_csv(Config.CSV_DIR/'freq_monthly-cny.csv')\n",
    "# ihkd_period[['Fund', 'Earning', 'Value', 'Market', 'Commission', 'Tax']].to_csv(Config.CSV_DIR/'freq_monthly-hkd.csv')"
   ]
  },
  {
   "cell_type": "code",
   "execution_count": null,
   "metadata": {},
   "outputs": [],
   "source": []
  }
 ],
 "metadata": {
  "kernelspec": {
   "display_name": "Python 3",
   "language": "python",
   "name": "python3"
  },
  "language_info": {
   "codemirror_mode": {
    "name": "ipython",
    "version": 3
   },
   "file_extension": ".py",
   "mimetype": "text/x-python",
   "name": "python",
   "nbconvert_exporter": "python",
   "pygments_lexer": "ipython3",
   "version": "3.6.3"
  }
 },
 "nbformat": 4,
 "nbformat_minor": 2
}
