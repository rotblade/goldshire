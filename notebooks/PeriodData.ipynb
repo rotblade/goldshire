{
 "cells": [
  {
   "cell_type": "code",
   "execution_count": 11,
   "metadata": {},
   "outputs": [],
   "source": [
    "import datetime\n",
    "import pandas as pd\n",
    "from invest.portfolio import Portfolio\n",
    "from invest.investment import Investment\n",
    "from config import Config"
   ]
  },
  {
   "cell_type": "code",
   "execution_count": 21,
   "metadata": {},
   "outputs": [],
   "source": [
    "invests = []\n",
    "day = datetime.date(2018, 1, 21)\n",
    "\n",
    "for k, v in Config.FUNDS.items():\n",
    "    pfls = [Portfolio(c, Config.STOCKS[c]) for c in v[1:]]\n",
    "    invests.append(Investment(k, v[0], pfls))\n",
    "    \n",
    "icny = invests[0]\n",
    "ihkd = invests[1]"
   ]
  },
  {
   "cell_type": "code",
   "execution_count": 22,
   "metadata": {
    "scrolled": true
   },
   "outputs": [],
   "source": [
    "period_cny = icny.getData(day)[['Fund', 'Earning', 'Value', 'Market', 'Commission', 'Tax']]\n",
    "period_hkd = ihkd.getData(day)[['Fund', 'Earning', 'Value', 'Market', 'Commission', 'Tax']]"
   ]
  },
  {
   "cell_type": "code",
   "execution_count": 23,
   "metadata": {},
   "outputs": [
    {
     "data": {
      "text/html": [
       "<div>\n",
       "<style scoped>\n",
       "    .dataframe tbody tr th:only-of-type {\n",
       "        vertical-align: middle;\n",
       "    }\n",
       "\n",
       "    .dataframe tbody tr th {\n",
       "        vertical-align: top;\n",
       "    }\n",
       "\n",
       "    .dataframe thead th {\n",
       "        text-align: right;\n",
       "    }\n",
       "</style>\n",
       "<table border=\"1\" class=\"dataframe\">\n",
       "  <thead>\n",
       "    <tr style=\"text-align: right;\">\n",
       "      <th></th>\n",
       "      <th>Fund</th>\n",
       "      <th>Earning</th>\n",
       "      <th>Value</th>\n",
       "      <th>Market</th>\n",
       "      <th>Commission</th>\n",
       "      <th>Tax</th>\n",
       "    </tr>\n",
       "  </thead>\n",
       "  <tbody>\n",
       "    <tr>\n",
       "      <th>2018-01-21</th>\n",
       "      <td>1351715.0</td>\n",
       "      <td>1259079.44</td>\n",
       "      <td>2610794.44</td>\n",
       "      <td>2237735.0</td>\n",
       "      <td>3083.12</td>\n",
       "      <td>9218.59</td>\n",
       "    </tr>\n",
       "  </tbody>\n",
       "</table>\n",
       "</div>"
      ],
      "text/plain": [
       "                 Fund     Earning       Value     Market  Commission      Tax\n",
       "2018-01-21  1351715.0  1259079.44  2610794.44  2237735.0     3083.12  9218.59"
      ]
     },
     "execution_count": 23,
     "metadata": {},
     "output_type": "execute_result"
    }
   ],
   "source": [
    "period_cny"
   ]
  },
  {
   "cell_type": "code",
   "execution_count": 4,
   "metadata": {},
   "outputs": [],
   "source": [
    "ihkd_daily = ihkd.getPeriodData(freq='D')\n",
    "ihkd_monthly = ihkd.getPeriodData(freq='M')\n",
    "ihkd_yearly = ihkd.getPeriodData()"
   ]
  },
  {
   "cell_type": "code",
   "execution_count": 6,
   "metadata": {},
   "outputs": [],
   "source": [
    "icny_daily[['Fund', 'Earning', 'Value', 'Market', 'Commission', 'Tax']].to_csv(Config.DAILY_CNY_FILE)\n",
    "icny_monthly[['Fund', 'Earning', 'Value', 'Market', 'Commission', 'Tax']].to_csv(Config.MONTHLY_CNY_FILE)\n",
    "icny_yearly[['Fund', 'Earning', 'Value', 'Market', 'Commission', 'Tax']].to_csv(Config.YEARLY_CNY_FILE)"
   ]
  },
  {
   "cell_type": "code",
   "execution_count": 8,
   "metadata": {},
   "outputs": [],
   "source": [
    "ihkd_period[['Fund', 'Earning', 'Value', 'Market', 'Commission', 'Tax']].to_csv(Config.DAILY_HKD_FILE)\n",
    "ihkd_monthly[['Fund', 'Earning', 'Value', 'Market', 'Commission', 'Tax']].to_csv(Config.MONTHLY_HKD_FILE)\n",
    "ihkd_yearly[['Fund', 'Earning', 'Value', 'Market', 'Commission', 'Tax']].to_csv(Config.YEARLY_HKD_FILE)"
   ]
  },
  {
   "cell_type": "code",
   "execution_count": null,
   "metadata": {},
   "outputs": [],
   "source": []
  }
 ],
 "metadata": {
  "kernelspec": {
   "display_name": "Python 3",
   "language": "python",
   "name": "python3"
  },
  "language_info": {
   "codemirror_mode": {
    "name": "ipython",
    "version": 3
   },
   "file_extension": ".py",
   "mimetype": "text/x-python",
   "name": "python",
   "nbconvert_exporter": "python",
   "pygments_lexer": "ipython3",
   "version": "3.6.3"
  }
 },
 "nbformat": 4,
 "nbformat_minor": 2
}
