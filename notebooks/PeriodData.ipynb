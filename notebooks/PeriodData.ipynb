{
 "cells": [
  {
   "cell_type": "code",
   "execution_count": 1,
   "metadata": {},
   "outputs": [],
   "source": [
    "import datetime\n",
    "import pandas as pd\n",
    "from invest.portfolio import Portfolio\n",
    "from invest.investment import Investment\n",
    "from config import Config"
   ]
  },
  {
   "cell_type": "code",
   "execution_count": 2,
   "metadata": {},
   "outputs": [],
   "source": [
    "invests = []\n",
    "\n",
    "for k, v in Config.FUNDS.items():\n",
    "    pfls = [Portfolio(c, Config.STOCKS[c]) for c in v[1:]]\n",
    "    invests.append(Investment(k, v[0], pfls))\n",
    "    \n",
    "icny = invests[0]\n",
    "ihkd = invests[1]"
   ]
  },
  {
   "cell_type": "code",
   "execution_count": 3,
   "metadata": {
    "scrolled": true
   },
   "outputs": [],
   "source": [
    "icny_daily = icny.getPeriodData(freq='D')\n",
    "icny_monthly = icny.getPeriodData(freq='M')\n",
    "icny_yearly = icny.getPeriodData()"
   ]
  },
  {
   "cell_type": "code",
   "execution_count": 4,
   "metadata": {},
   "outputs": [],
   "source": [
    "ihkd_daily = ihkd.getPeriodData(freq='D')\n",
    "ihkd_monthly = ihkd.getPeriodData(freq='M')\n",
    "ihkd_yearly = ihkd.getPeriodData()"
   ]
  },
  {
   "cell_type": "code",
   "execution_count": 6,
   "metadata": {},
   "outputs": [],
   "source": [
    "icny_daily[['Fund', 'Earning', 'Value', 'Market', 'Commission', 'Tax']].to_csv(Config.DAILY_CNY_FILE)\n",
    "icny_monthly[['Fund', 'Earning', 'Value', 'Market', 'Commission', 'Tax']].to_csv(Config.MONTHLY_CNY_FILE)\n",
    "icny_yearly[['Fund', 'Earning', 'Value', 'Market', 'Commission', 'Tax']].to_csv(Config.YEARLY_CNY_FILE)"
   ]
  },
  {
   "cell_type": "code",
   "execution_count": 8,
   "metadata": {},
   "outputs": [],
   "source": [
    "ihkd_period[['Fund', 'Earning', 'Value', 'Market', 'Commission', 'Tax']].to_csv(Config.DAILY_HKD_FILE)\n",
    "ihkd_monthly[['Fund', 'Earning', 'Value', 'Market', 'Commission', 'Tax']].to_csv(Config.MONTHLY_HKD_FILE)\n",
    "ihkd_yearly[['Fund', 'Earning', 'Value', 'Market', 'Commission', 'Tax']].to_csv(Config.YEARLY_HKD_FILE)"
   ]
  },
  {
   "cell_type": "code",
   "execution_count": null,
   "metadata": {},
   "outputs": [],
   "source": []
  }
 ],
 "metadata": {
  "kernelspec": {
   "display_name": "Python 3",
   "language": "python",
   "name": "python3"
  },
  "language_info": {
   "codemirror_mode": {
    "name": "ipython",
    "version": 3
   },
   "file_extension": ".py",
   "mimetype": "text/x-python",
   "name": "python",
   "nbconvert_exporter": "python",
   "pygments_lexer": "ipython3",
   "version": "3.6.3"
  }
 },
 "nbformat": 4,
 "nbformat_minor": 2
}
