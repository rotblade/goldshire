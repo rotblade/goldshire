{
 "cells": [
  {
   "cell_type": "code",
   "execution_count": 1,
   "metadata": {},
   "outputs": [],
   "source": [
    "import datetime\n",
    "import pandas as pd\n",
    "from invest import Portfolio, Investment, Currency\n",
    "from config import Config"
   ]
  },
  {
   "cell_type": "code",
   "execution_count": 2,
   "metadata": {},
   "outputs": [],
   "source": [
    "invests = []\n",
    "for k, v in Config.FUNDS.items():\n",
    "    pfls = [Portfolio(c, Config.STOCKS[c]) for c in v[1:]]\n",
    "    invests.append(Investment(k, v[0], pfls))"
   ]
  },
  {
   "cell_type": "code",
   "execution_count": 3,
   "metadata": {},
   "outputs": [],
   "source": [
    "invest_cny = invests[0]\n",
    "invest_hkd = invests[1]"
   ]
  },
  {
   "cell_type": "code",
   "execution_count": 4,
   "metadata": {},
   "outputs": [],
   "source": [
    "day = datetime.date.today()\n",
    "latest_cny = invest_cny.getData(day)\n",
    "latest_hkd = invest_hkd.getData(day)\n",
    "period_cny = invest_cny.getPeriodData()\n",
    "period_hkd = invest_hkd.getPeriodData()"
   ]
  },
  {
   "cell_type": "code",
   "execution_count": 10,
   "metadata": {},
   "outputs": [
    {
     "data": {
      "text/plain": [
       "[Timestamp('2015-12-31 00:00:00'),\n",
       " Timestamp('2016-12-31 00:00:00'),\n",
       " Timestamp('2017-12-31 00:00:00')]"
      ]
     },
     "execution_count": 10,
     "metadata": {},
     "output_type": "execute_result"
    }
   ],
   "source": [
    "#latest_cny.index = pd.to_datetime(latest_cny.index)\n",
    "list(period_cny.index)"
   ]
  },
  {
   "cell_type": "code",
   "execution_count": 8,
   "metadata": {},
   "outputs": [
    {
     "data": {
      "text/plain": [
       "[{'Commission': 0.0,\n",
       "  'Earning': 0.0,\n",
       "  'Fund': 1405000.0,\n",
       "  'Market': 703004.5,\n",
       "  'Tax': 0.0,\n",
       "  'Value': 1405000.0},\n",
       " {'Commission': 1301.1700000000001,\n",
       "  'Earning': 149779.16,\n",
       "  'Fund': 1197962.0,\n",
       "  'Market': 865843.0,\n",
       "  'Tax': 3212.96,\n",
       "  'Value': 1347741.1599999999},\n",
       " {'Commission': 2970.1900000000001,\n",
       "  'Earning': 1026347.38,\n",
       "  'Fund': 1321715.0,\n",
       "  'Market': 1883459.0,\n",
       "  'Tax': 11459.209999999999,\n",
       "  'Value': 2348062.3799999999},\n",
       " {'Commission': 3113.21,\n",
       "  'Earning': 1258592.01,\n",
       "  'Fund': 1651715.0,\n",
       "  'Market': 2277106.0,\n",
       "  'Tax': 11734.030000000001,\n",
       "  'Value': 2910307.0099999998}]"
      ]
     },
     "execution_count": 8,
     "metadata": {},
     "output_type": "execute_result"
    }
   ],
   "source": [
    "pd.concat([period_cny, latest_cny]).to_dict(orient='records')"
   ]
  },
  {
   "cell_type": "code",
   "execution_count": 32,
   "metadata": {},
   "outputs": [],
   "source": [
    "days = period_cny.index\n",
    "rates = []\n",
    "HKD = Currency('hkd', Config.H2C_RATE_FILE)\n",
    "for day in days:\n",
    "    rates.append(HKD.get_rate2cny(day))\n",
    "yearly_rates = pd.DataFrame(rates, index=days, columns=['Rate'])"
   ]
  },
  {
   "cell_type": "code",
   "execution_count": 19,
   "metadata": {},
   "outputs": [],
   "source": [
    "period_hkd2cny = period_hkd.mul(yearly_rates['Rate'], axis=0).round(2)"
   ]
  },
  {
   "cell_type": "code",
   "execution_count": 22,
   "metadata": {},
   "outputs": [
    {
     "data": {
      "text/html": [
       "<div>\n",
       "<style scoped>\n",
       "    .dataframe tbody tr th:only-of-type {\n",
       "        vertical-align: middle;\n",
       "    }\n",
       "\n",
       "    .dataframe tbody tr th {\n",
       "        vertical-align: top;\n",
       "    }\n",
       "\n",
       "    .dataframe thead th {\n",
       "        text-align: right;\n",
       "    }\n",
       "</style>\n",
       "<table border=\"1\" class=\"dataframe\">\n",
       "  <thead>\n",
       "    <tr style=\"text-align: right;\">\n",
       "      <th></th>\n",
       "      <th>Commission</th>\n",
       "      <th>Earning</th>\n",
       "      <th>Fund</th>\n",
       "      <th>Market</th>\n",
       "      <th>Tax</th>\n",
       "      <th>Value</th>\n",
       "    </tr>\n",
       "  </thead>\n",
       "  <tbody>\n",
       "    <tr>\n",
       "      <th>2015-12-31</th>\n",
       "      <td>2208.80</td>\n",
       "      <td>67385.28</td>\n",
       "      <td>1591818.78</td>\n",
       "      <td>832327.99</td>\n",
       "      <td>1749.69</td>\n",
       "      <td>1659204.06</td>\n",
       "    </tr>\n",
       "    <tr>\n",
       "      <th>2016-12-31</th>\n",
       "      <td>6673.96</td>\n",
       "      <td>313793.57</td>\n",
       "      <td>1607759.18</td>\n",
       "      <td>1296751.98</td>\n",
       "      <td>8811.47</td>\n",
       "      <td>1921552.75</td>\n",
       "    </tr>\n",
       "    <tr>\n",
       "      <th>2017-12-31</th>\n",
       "      <td>11600.83</td>\n",
       "      <td>2195942.01</td>\n",
       "      <td>1405417.08</td>\n",
       "      <td>2861261.69</td>\n",
       "      <td>22804.14</td>\n",
       "      <td>3601359.09</td>\n",
       "    </tr>\n",
       "  </tbody>\n",
       "</table>\n",
       "</div>"
      ],
      "text/plain": [
       "            Commission     Earning        Fund      Market       Tax  \\\n",
       "2015-12-31     2208.80    67385.28  1591818.78   832327.99   1749.69   \n",
       "2016-12-31     6673.96   313793.57  1607759.18  1296751.98   8811.47   \n",
       "2017-12-31    11600.83  2195942.01  1405417.08  2861261.69  22804.14   \n",
       "\n",
       "                 Value  \n",
       "2015-12-31  1659204.06  \n",
       "2016-12-31  1921552.75  \n",
       "2017-12-31  3601359.09  "
      ]
     },
     "execution_count": 22,
     "metadata": {},
     "output_type": "execute_result"
    }
   ],
   "source": [
    "period_cny+period_hkd2cny"
   ]
  },
  {
   "cell_type": "code",
   "execution_count": null,
   "metadata": {},
   "outputs": [],
   "source": []
  }
 ],
 "metadata": {
  "kernelspec": {
   "display_name": "Python 3",
   "language": "python",
   "name": "python3"
  },
  "language_info": {
   "codemirror_mode": {
    "name": "ipython",
    "version": 3
   },
   "file_extension": ".py",
   "mimetype": "text/x-python",
   "name": "python",
   "nbconvert_exporter": "python",
   "pygments_lexer": "ipython3",
   "version": "3.6.3"
  }
 },
 "nbformat": 4,
 "nbformat_minor": 2
}
