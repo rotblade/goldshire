{
 "cells": [
  {
   "cell_type": "code",
   "execution_count": 25,
   "metadata": {},
   "outputs": [],
   "source": [
    "import datetime\n",
    "import pandas as pd\n",
    "import numpy as np\n",
    "import csv\n",
    "from os import listdir\n",
    "from os.path import isfile, join\n",
    "from stocks import get_tx_quotes"
   ]
  },
  {
   "cell_type": "code",
   "execution_count": 26,
   "metadata": {},
   "outputs": [],
   "source": [
    "stocks_cny = pd.read_csv('csv/stocks-cny.csv', dtype={'Symbol': str, 'Hold': np.bool})\n",
    "stocks_hkd = pd.read_csv('csv/stocks-hkd.csv', dtype={'Symbol': str, 'Hold': np.bool})\n",
    "stocks_usd = pd.read_csv('csv/stocks-usd.csv', dtype={'Symbol': str, 'Hold': np.bool})\n",
    "csvpath = '/Users/gavin/code/goldshire/csv/history'\n",
    "today = datetime.date.today().strftime('%Y-%m-%d')"
   ]
  },
  {
   "cell_type": "code",
   "execution_count": 27,
   "metadata": {},
   "outputs": [],
   "source": [
    "hold_cny = stocks_cny.loc[lambda df: df.Hold]\n",
    "hold_hkd = stocks_hkd.loc[lambda df: df.Hold]\n",
    "hold_usd = stocks_usd.loc[lambda df: df.Hold]"
   ]
  },
  {
   "cell_type": "code",
   "execution_count": 28,
   "metadata": {},
   "outputs": [],
   "source": [
    "symbols = [[], [], []]\n",
    "if len(hold_cny) > 0:\n",
    "    symbols[0] = hold_cny['Symbol']\n",
    "    \n",
    "if len(hold_hkd) > 0:\n",
    "    symbols[1] = hold_hkd['Symbol']\n",
    "    \n",
    "if len(hold_usd) > 0:\n",
    "    symbols[2] = hold_usd['Symbol']"
   ]
  },
  {
   "cell_type": "code",
   "execution_count": 29,
   "metadata": {},
   "outputs": [],
   "source": [
    "last = [[], [], []]\n",
    "if len(symbols[0]) > 0:\n",
    "    last[0] = get_tx_quotes(symbols[0], market='cn')\n",
    "    \n",
    "if len(symbols[1]) > 0:\n",
    "    last[1] = get_tx_quotes(symbols[1], market='hk')\n",
    "    \n",
    "\n",
    "if len(symbols[2]) > 0:\n",
    "    last[2] = get_tx_quotes(symbols[2], market='us')"
   ]
  },
  {
   "cell_type": "code",
   "execution_count": 34,
   "metadata": {},
   "outputs": [
    {
     "data": {
      "text/html": [
       "<div>\n",
       "<style>\n",
       "    .dataframe thead tr:only-child th {\n",
       "        text-align: right;\n",
       "    }\n",
       "\n",
       "    .dataframe thead th {\n",
       "        text-align: left;\n",
       "    }\n",
       "\n",
       "    .dataframe tbody tr th {\n",
       "        vertical-align: top;\n",
       "    }\n",
       "</style>\n",
       "<table border=\"1\" class=\"dataframe\">\n",
       "  <thead>\n",
       "    <tr style=\"text-align: right;\">\n",
       "      <th></th>\n",
       "      <th>Last</th>\n",
       "      <th>Change</th>\n",
       "      <th>Percent</th>\n",
       "    </tr>\n",
       "    <tr>\n",
       "      <th>Symbol</th>\n",
       "      <th></th>\n",
       "      <th></th>\n",
       "      <th></th>\n",
       "    </tr>\n",
       "  </thead>\n",
       "  <tbody>\n",
       "    <tr>\n",
       "      <th>01988</th>\n",
       "      <td>7.45</td>\n",
       "      <td>-0.06</td>\n",
       "      <td>-0.80</td>\n",
       "    </tr>\n",
       "    <tr>\n",
       "      <th>00512</th>\n",
       "      <td>3.31</td>\n",
       "      <td>-0.04</td>\n",
       "      <td>-1.19</td>\n",
       "    </tr>\n",
       "    <tr>\n",
       "      <th>01918</th>\n",
       "      <td>35.85</td>\n",
       "      <td>0.40</td>\n",
       "      <td>1.13</td>\n",
       "    </tr>\n",
       "    <tr>\n",
       "      <th>02601</th>\n",
       "      <td>38.50</td>\n",
       "      <td>-0.45</td>\n",
       "      <td>-1.16</td>\n",
       "    </tr>\n",
       "    <tr>\n",
       "      <th>02666</th>\n",
       "      <td>7.39</td>\n",
       "      <td>-0.14</td>\n",
       "      <td>-1.86</td>\n",
       "    </tr>\n",
       "    <tr>\n",
       "      <th>00392</th>\n",
       "      <td>43.85</td>\n",
       "      <td>-0.80</td>\n",
       "      <td>-1.79</td>\n",
       "    </tr>\n",
       "    <tr>\n",
       "      <th>00735</th>\n",
       "      <td>4.38</td>\n",
       "      <td>-0.09</td>\n",
       "      <td>-2.01</td>\n",
       "    </tr>\n",
       "    <tr>\n",
       "      <th>03883</th>\n",
       "      <td>4.33</td>\n",
       "      <td>-0.02</td>\n",
       "      <td>-0.46</td>\n",
       "    </tr>\n",
       "    <tr>\n",
       "      <th>00558</th>\n",
       "      <td>1.24</td>\n",
       "      <td>-0.06</td>\n",
       "      <td>-4.62</td>\n",
       "    </tr>\n",
       "  </tbody>\n",
       "</table>\n",
       "</div>"
      ],
      "text/plain": [
       "         Last Change Percent\n",
       "Symbol                      \n",
       "01988    7.45  -0.06   -0.80\n",
       "00512    3.31  -0.04   -1.19\n",
       "01918   35.85   0.40    1.13\n",
       "02601   38.50  -0.45   -1.16\n",
       "02666    7.39  -0.14   -1.86\n",
       "00392   43.85  -0.80   -1.79\n",
       "00735    4.38  -0.09   -2.01\n",
       "03883    4.33  -0.02   -0.46\n",
       "00558    1.24  -0.06   -4.62"
      ]
     },
     "execution_count": 34,
     "metadata": {},
     "output_type": "execute_result"
    }
   ],
   "source": [
    "last[1]"
   ]
  },
  {
   "cell_type": "code",
   "execution_count": 33,
   "metadata": {},
   "outputs": [],
   "source": [
    "if len(last[0]) > 0:\n",
    "    for k, v in last[0]['Last'].items():\n",
    "        #print((k, today, v))\n",
    "        with open(join(csvpath, k+'.csv'), 'a', newline='') as f:\n",
    "            writer = csv.writer(f)\n",
    "            writer.writerow([today, v])"
   ]
  },
  {
   "cell_type": "code",
   "execution_count": 35,
   "metadata": {},
   "outputs": [],
   "source": [
    "if len(last[1]) > 0:\n",
    "    for k, v in last[1]['Last'].items():\n",
    "        #print((k, today, v))\n",
    "        with open(join(csvpath, k+'.csv'), 'a', newline='') as f:\n",
    "            writer = csv.writer(f)\n",
    "            writer.writerow([today, v])"
   ]
  },
  {
   "cell_type": "code",
   "execution_count": null,
   "metadata": {},
   "outputs": [],
   "source": []
  }
 ],
 "metadata": {
  "kernelspec": {
   "display_name": "Python 3",
   "language": "python",
   "name": "python3"
  },
  "language_info": {
   "codemirror_mode": {
    "name": "ipython",
    "version": 3
   },
   "file_extension": ".py",
   "mimetype": "text/x-python",
   "name": "python",
   "nbconvert_exporter": "python",
   "pygments_lexer": "ipython3",
   "version": "3.5.4"
  }
 },
 "nbformat": 4,
 "nbformat_minor": 2
}
